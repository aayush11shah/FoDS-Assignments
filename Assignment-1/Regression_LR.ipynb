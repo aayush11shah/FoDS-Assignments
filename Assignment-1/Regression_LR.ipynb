{
 "cells": [
  {
   "cell_type": "code",
   "execution_count": 2,
   "id": "67e18fe8",
   "metadata": {},
   "outputs": [],
   "source": [
    "import numpy as np\n",
    "import pandas as pd\n",
    "import matplotlib.pyplot as plt"
   ]
  },
  {
   "cell_type": "code",
   "execution_count": 40,
   "id": "98c8cc83",
   "metadata": {},
   "outputs": [],
   "source": [
    "# importing the data\n",
    "data = pd.read_csv(\"FoDS-A1.csv\", names = [\"X1\",\"X2\",\"Y\"], header=0)"
   ]
  },
  {
   "cell_type": "markdown",
   "id": "0bbe1526",
   "metadata": {},
   "source": [
    "# Data Preprocessing\n",
    "\n",
    "Preprocessing the data involves:\n",
    "\n",
    "- `Normalizing` the data:<br>\n",
    "<br>\n",
    "&emsp;&emsp;&emsp;&emsp;&emsp;&emsp; <font size=\"4\"> X = $\\frac{ X_{} - X_{min} }{X_{max} - X_{min}}$ </font>\n",
    "<br>\n",
    "<br>                 \n",
    "- `Shuffling` the data\n",
    "<br>\n",
    "<br>\n",
    "- `Splitting` the data to test and train "
   ]
  },
  {
   "cell_type": "code",
   "execution_count": 41,
   "id": "78850740",
   "metadata": {},
   "outputs": [],
   "source": [
    "def normalize(data):\n",
    "    data_min = data.min()\n",
    "    data_max = data.max()\n",
    "    data[\"X1\"] = (data[\"X1\"] - data_min[0])/(data_max[0]-data_min[0])\n",
    "    data[\"X2\"] = (data[\"X2\"] - data_min[1])/(data_max[1]-data_min[1])"
   ]
  },
  {
   "cell_type": "code",
   "execution_count": 49,
   "id": "be014e31",
   "metadata": {},
   "outputs": [],
   "source": [
    "def split(data,fraction = 0.7):\n",
    "    \n",
    "    shuffled_data = data.sample(frac=1, random_state=0) # Shuffling the dataset\n",
    "    split_index = int(fraction * len(data)) # Finding split index\n",
    "    \n",
    "    # Spliting the dataset \n",
    "    train= shuffled_data[:split_index]\n",
    "    test = shuffled_data[split_index:]\n",
    "    return train.reset_index(drop=True), test.reset_index(drop=True)"
   ]
  },
  {
   "cell_type": "code",
   "execution_count": null,
   "id": "dbf18378",
   "metadata": {},
   "outputs": [],
   "source": [
    "def generate_vectors(train_X, degree=9):\n",
    "    total_terms = int(((degree+1)*(degree+2))/2)\n",
    "    terms = np.zeros((total_terms,train_X.shape[0]))\n",
    "    \n",
    "    \n",
    "    for i in range(train_X.shape[0]):\n",
    "\n",
    "        current_x1 = train_X[i][0]\n",
    "        current_x2 = train_X[i][1]\n",
    "        m = 0\n",
    "        part_x1 = 1\n",
    "        part_x2 = 1\n",
    "        \n",
    "        for j in range(degree+1):\n",
    "            for k in range(degree-j+1):\n",
    "                terms[m][i] = part_x1 * part_x2\n",
    "                m += 1\n",
    "                part_x1 = part_x1 * current_x1 \n",
    "            \n",
    "            part_x2 = part_x2 * current_x2\n",
    "            part_x1 = 1\n",
    "            \n",
    "    W = np.zeros((total_terms,1))\n",
    "                \n",
    "    return terms.T, W"
   ]
  },
  {
   "cell_type": "code",
   "execution_count": null,
   "id": "d1164734",
   "metadata": {},
   "outputs": [],
   "source": [
    "def calculate_cost_ridge(W, X, Y, penalty):\n",
    "    cost = (np.sum(np.square(np.dot(X,W) - Y)))/2\n",
    "    cost += (penalty*np.dot(W[1:].T, W[1:]))/2\n",
    "    return cost"
   ]
  },
  {
   "cell_type": "code",
   "execution_count": null,
   "id": "027a7ab4",
   "metadata": {},
   "outputs": [],
   "source": [
    "def calculate_cost_lasso(W, X, Y, penalty):\n",
    "    cost = (np.sum(np.square(np.dot(X,W) - Y)))/2\n",
    "    cost += penalty * np.sum(np.absolute(W[1:]))\n",
    "    return cost"
   ]
  },
  {
   "cell_type": "code",
   "execution_count": null,
   "id": "b454eb91",
   "metadata": {},
   "outputs": [],
   "source": [
    "def gradient_descent_ridge(X, Y, W, penalty, learning_rate=0.01, iterations=1000):\n",
    "\n",
    "    cost_history = np.zeros(iterations)\n",
    "    for it in range(iterations):\n",
    "        \n",
    "        prediction = np.dot(X, W)         \n",
    "        updated_W0 = W[0] - np.multiply((X.T.dot(prediction - Y)), learning_rate)[0]\n",
    "        W[1:] = W[1:] - np.multiply((X.T.dot(prediction - Y)[1:] + np.multiply(W[1:], penalty)), learning_rate)\n",
    "        W[0] = updated_W0\n",
    "        cost_history[it]  = calculate_cost_ridge(W, X, Y)\n",
    "        \n",
    "    return W, cost_history"
   ]
  },
  {
   "cell_type": "code",
   "execution_count": null,
   "id": "a54bd686",
   "metadata": {},
   "outputs": [],
   "source": [
    "#TBD\n",
    "def gradient_descent_lasso(X, Y, W,  penalty, learning_rate=0.0001, iterations=1000,):\n",
    "\n",
    "    cost_history = np.zeros(iterations)\n",
    "    for it in range(iterations):\n",
    "        \n",
    "        prediction = np.dot(X, W)         \n",
    "        updated_W0 = W[0] - np.multiply((X.T.dot(prediction - Y)), learning_rate)[0]\n",
    "        W[1:] = W[1:] - np.multiply((X.T.dot(prediction - Y)[1:] + np.multiply(np.divide(W[1:], np.absolute(W[1:])), penalty)), learning_rate)\n",
    "        W[0] = updated_W0\n",
    "        cost_history[it]  = calculate_cost_lasso(W, X, Y)\n",
    "        \n",
    "    return W, cost_history"
   ]
  },
  {
   "cell_type": "code",
   "execution_count": null,
   "metadata": {},
   "outputs": [],
   "source": []
  },
  {
   "cell_type": "code",
   "execution_count": null,
   "id": "0226f814",
   "metadata": {},
   "outputs": [],
   "source": [
    "def stocashtic_gradient_descent_ridge(X, Y, W, penalty, learning_rate=0.01, iterations=10):\n",
    "\n",
    "    m = len(Y)\n",
    "    m = int(m / 10)\n",
    "    cost_history = np.zeros(iterations)\n",
    "    \n",
    "    for it in range(iterations):\n",
    "        cost =0.0\n",
    "        for i in range(m):\n",
    "            rand_int = np.random.randint(0,m)\n",
    "            X_i = X[rand_int:rand_int+1]\n",
    "            Y_i = Y[rand_int:rand_int+1]\n",
    "\n",
    "            prediction = np.dot(X_i,W)\n",
    "            updated_W0 = W[0] - np.multiply((X_i.T.dot(prediction - Y_i)), learning_rate)[0]\n",
    "            W[1:] = W[1:] - np.multiply((X_i.T.dot(prediction - Y_i)[1:] + np.multiply(W[1:], penalty)), learning_rate)\n",
    "            W[0] = updated_W0\n",
    "            \n",
    "            cost += calculate_cost_ridge(W,X_i,Y_i)\n",
    "        cost_history[it]  = cost\n",
    "        \n",
    "    return W, cost_history"
   ]
  },
  {
   "cell_type": "code",
   "execution_count": null,
   "id": "29186dc9",
   "metadata": {},
   "outputs": [],
   "source": [
    "def stocashtic_gradient_descent_lasso(X, Y, W, penalty, learning_rate=0.01, iterations=10):\n",
    "\n",
    "    m = len(Y)\n",
    "    m = int(m / 10)\n",
    "    cost_history = np.zeros(iterations)\n",
    "    \n",
    "    for it in range(iterations):\n",
    "        cost =0.0\n",
    "        for i in range(m):\n",
    "            rand_int = np.random.randint(0,m)\n",
    "            X_i = X[rand_int:rand_int+1]\n",
    "            Y_i = Y[rand_int:rand_int+1]\n",
    "\n",
    "            prediction = np.dot(X_i,W)\n",
    "            updated_W0 = W[0] - np.multiply((X_i.T.dot(prediction - Y_i)), learning_rate)[0]\n",
    "            W[1:] = W[1:] - np.multiply((X_i.T.dot(prediction - Y_i)[1:] + np.multiply(np.divide(W[1:], np.absolute(W[1:])), penalty)), learning_rate)\n",
    "            W[0] = updated_W0\n",
    "            \n",
    "            cost += calculate_cost_lasso(W,X_i,Y_i)\n",
    "        cost_history[it]  = cost\n",
    "        \n",
    "    return W, cost_history"
   ]
  },
  {
   "cell_type": "code",
   "execution_count": null,
   "id": "8a47dc24",
   "metadata": {},
   "outputs": [],
   "source": [
    "def errorloop(cost_history):\n",
    "    for it in range(len(cost_history)):\n",
    "        if it%50==0: print(cost_history[it])"
   ]
  },
  {
   "cell_type": "code",
   "execution_count": 53,
   "id": "eefe94bd",
   "metadata": {},
   "outputs": [
    {
     "data": {
      "text/html": [
       "<div>\n",
       "<style scoped>\n",
       "    .dataframe tbody tr th:only-of-type {\n",
       "        vertical-align: middle;\n",
       "    }\n",
       "\n",
       "    .dataframe tbody tr th {\n",
       "        vertical-align: top;\n",
       "    }\n",
       "\n",
       "    .dataframe thead th {\n",
       "        text-align: right;\n",
       "    }\n",
       "</style>\n",
       "<table border=\"1\" class=\"dataframe\">\n",
       "  <thead>\n",
       "    <tr style=\"text-align: right;\">\n",
       "      <th></th>\n",
       "      <th>X1</th>\n",
       "      <th>X2</th>\n",
       "      <th>Y</th>\n",
       "    </tr>\n",
       "  </thead>\n",
       "  <tbody>\n",
       "    <tr>\n",
       "      <th>0</th>\n",
       "      <td>0.250689</td>\n",
       "      <td>0.4</td>\n",
       "      <td>20</td>\n",
       "    </tr>\n",
       "    <tr>\n",
       "      <th>1</th>\n",
       "      <td>0.862259</td>\n",
       "      <td>1.0</td>\n",
       "      <td>10</td>\n",
       "    </tr>\n",
       "    <tr>\n",
       "      <th>2</th>\n",
       "      <td>0.710744</td>\n",
       "      <td>0.9</td>\n",
       "      <td>14</td>\n",
       "    </tr>\n",
       "    <tr>\n",
       "      <th>3</th>\n",
       "      <td>0.559229</td>\n",
       "      <td>0.5</td>\n",
       "      <td>16</td>\n",
       "    </tr>\n",
       "    <tr>\n",
       "      <th>4</th>\n",
       "      <td>0.490358</td>\n",
       "      <td>0.7</td>\n",
       "      <td>20</td>\n",
       "    </tr>\n",
       "    <tr>\n",
       "      <th>...</th>\n",
       "      <td>...</td>\n",
       "      <td>...</td>\n",
       "      <td>...</td>\n",
       "    </tr>\n",
       "    <tr>\n",
       "      <th>1150</th>\n",
       "      <td>0.672176</td>\n",
       "      <td>0.6</td>\n",
       "      <td>10</td>\n",
       "    </tr>\n",
       "    <tr>\n",
       "      <th>1151</th>\n",
       "      <td>0.504132</td>\n",
       "      <td>0.8</td>\n",
       "      <td>20</td>\n",
       "    </tr>\n",
       "    <tr>\n",
       "      <th>1152</th>\n",
       "      <td>0.415978</td>\n",
       "      <td>0.5</td>\n",
       "      <td>16</td>\n",
       "    </tr>\n",
       "    <tr>\n",
       "      <th>1153</th>\n",
       "      <td>0.567493</td>\n",
       "      <td>0.7</td>\n",
       "      <td>18</td>\n",
       "    </tr>\n",
       "    <tr>\n",
       "      <th>1154</th>\n",
       "      <td>0.526171</td>\n",
       "      <td>0.9</td>\n",
       "      <td>20</td>\n",
       "    </tr>\n",
       "  </tbody>\n",
       "</table>\n",
       "<p>1155 rows × 3 columns</p>\n",
       "</div>"
      ],
      "text/plain": [
       "            X1   X2   Y\n",
       "0     0.250689  0.4  20\n",
       "1     0.862259  1.0  10\n",
       "2     0.710744  0.9  14\n",
       "3     0.559229  0.5  16\n",
       "4     0.490358  0.7  20\n",
       "...        ...  ...  ..\n",
       "1150  0.672176  0.6  10\n",
       "1151  0.504132  0.8  20\n",
       "1152  0.415978  0.5  16\n",
       "1153  0.567493  0.7  18\n",
       "1154  0.526171  0.9  20\n",
       "\n",
       "[1155 rows x 3 columns]"
      ]
     },
     "execution_count": 53,
     "metadata": {},
     "output_type": "execute_result"
    }
   ],
   "source": [
    "normalize(data)\n",
    "train_data, test_data = split(data)"
   ]
  },
  {
   "cell_type": "code",
   "execution_count": null,
   "id": "a70e1ce1",
   "metadata": {},
   "outputs": [],
   "source": []
  }
 ],
 "metadata": {
  "interpreter": {
   "hash": "6c96954d1223400df3af4fc96eecaedf564f456a23720a3bb09f3211947aa942"
  },
  "kernelspec": {
   "display_name": "Python 3",
   "language": "python",
   "name": "python3"
  },
  "language_info": {
   "codemirror_mode": {
    "name": "ipython",
    "version": 3
   },
   "file_extension": ".py",
   "mimetype": "text/x-python",
   "name": "python",
   "nbconvert_exporter": "python",
   "pygments_lexer": "ipython3",
   "version": "3.9.5"
  }
 },
 "nbformat": 4,
 "nbformat_minor": 5
}
