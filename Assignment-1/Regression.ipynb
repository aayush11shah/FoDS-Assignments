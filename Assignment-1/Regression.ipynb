{
 "cells": [
  {
   "cell_type": "code",
   "execution_count": 1,
   "id": "67e18fe8",
   "metadata": {},
   "outputs": [],
   "source": [
    "import numpy as np\n",
    "import pandas as pd\n",
    "import matplotlib.pyplot as plt"
   ]
  },
  {
   "cell_type": "code",
   "execution_count": 2,
   "id": "98c8cc83",
   "metadata": {},
   "outputs": [],
   "source": [
    "# importing the data\n",
    "data = pd.read_csv(\"FoDS-A1.csv\", names = [\"X1\",\"X2\",\"Y\"], header=0)"
   ]
  },
  {
   "cell_type": "markdown",
   "id": "0bbe1526",
   "metadata": {},
   "source": [
    "# Data Preprocessing\n",
    "\n",
    "Preprocessing the data involves:\n",
    "\n",
    "- `Normalizing` the data:<br>\n",
    "<br>\n",
    "&emsp;&emsp;&emsp;&emsp;&emsp;&emsp; <font size=\"4\"> X = $\\frac{ X_{} - X_{min} }{X_{max} - X_{min}}$ </font>\n",
    "<br>\n",
    "<br>                 \n",
    "- `Shuffling` the data\n",
    "<br>\n",
    "<br>\n",
    "- `Splitting` the data to test and train "
   ]
  },
  {
   "cell_type": "code",
   "execution_count": 3,
   "id": "78850740",
   "metadata": {},
   "outputs": [],
   "source": [
    "def normalize(data):\n",
    "    data_min = data.min()\n",
    "    data_max = data.max()\n",
    "    data[\"X1\"] = (data[\"X1\"] - data_min[0])/(data_max[0]-data_min[0])\n",
    "    data[\"X2\"] = (data[\"X2\"] - data_min[1])/(data_max[1]-data_min[1])"
   ]
  },
  {
   "cell_type": "code",
   "execution_count": 4,
   "id": "be014e31",
   "metadata": {},
   "outputs": [],
   "source": [
    "def split(data,fraction = 0.7):\n",
    "    \n",
    "    shuffled_data = data.sample(frac=1, random_state=0) # Shuffling the dataset\n",
    "    split_index = int(fraction * len(data)) # Finding split index\n",
    "    \n",
    "    # Spliting the dataset \n",
    "    train= shuffled_data[:split_index]\n",
    "    test = shuffled_data[split_index:]\n",
    "    return train.reset_index(drop=True), test.reset_index(drop=True)"
   ]
  },
  {
   "cell_type": "code",
   "execution_count": 5,
   "id": "2edd55ab",
   "metadata": {},
   "outputs": [],
   "source": [
    "def generate_vectors(train_X, degree):\n",
    "    total_terms = int(((degree+1)*(degree+2))/2)\n",
    "    terms = np.zeros((total_terms,train_X.shape[0]))\n",
    "    \n",
    "    \n",
    "    for i in range(train_X.shape[0]):\n",
    "\n",
    "        current_x1 = train_X[i][0]\n",
    "        current_x2 = train_X[i][1]\n",
    "        m = 0\n",
    "        part_x1 = 1\n",
    "        part_x2 = 1\n",
    "        \n",
    "        for j in range(degree+1):\n",
    "            for k in range(degree-j+1):\n",
    "                terms[m][i] = part_x1 * part_x2\n",
    "                m += 1\n",
    "                part_x1 = part_x1 * current_x1 \n",
    "            \n",
    "            part_x2 = part_x2 * current_x2\n",
    "            part_x1 = 1\n",
    "            \n",
    "    W = np.zeros((total_terms,1))\n",
    "                \n",
    "    return terms.T, W"
   ]
  },
  {
   "cell_type": "code",
   "execution_count": 6,
   "id": "f3f0ae15",
   "metadata": {},
   "outputs": [],
   "source": [
    "def calculate_cost(W, X, Y):\n",
    "    return (np.sum(np.square(np.dot(X,W) - Y)))/2"
   ]
  },
  {
   "cell_type": "code",
   "execution_count": 7,
   "id": "f3e1187e",
   "metadata": {},
   "outputs": [],
   "source": [
    "def gradient_descent(X, Y, W, learning_rate=0.01, iterations=1000):\n",
    "\n",
    "    cost_history = np.zeros(iterations)\n",
    "    for it in range(iterations):\n",
    "        \n",
    "        prediction = np.dot(X, W)        \n",
    "        W = W - np.multiply((X.T.dot((prediction - Y))), learning_rate)\n",
    "        cost_history[it]  = calculate_cost(W, X, Y)\n",
    "        \n",
    "    return W, cost_history"
   ]
  },
  {
   "cell_type": "code",
   "execution_count": 8,
   "id": "72fa81e3",
   "metadata": {},
   "outputs": [],
   "source": [
    "def stocashtic_gradient_descent(X,Y,W,learning_rate=0.01,iterations=10):\n",
    "\n",
    "    m = len(Y)\n",
    "    m = int(m / 10)\n",
    "    cost_history = np.zeros(iterations)\n",
    "       \n",
    "    for it in range(iterations):\n",
    "        cost =0.0\n",
    "        for i in range(m):\n",
    "            rand_int = np.random.randint(0,m)\n",
    "            X_i = X[rand_int:rand_int+1]\n",
    "            Y_i = Y[rand_int:rand_int+1]\n",
    "            prediction = np.dot(X_i,W)\n",
    "            W = W - learning_rate*( X_i.T.dot((prediction - Y_i)))\n",
    "            cost += calculate_cost(W,X_i,Y_i)\n",
    "        cost_history[it]  = cost\n",
    "        \n",
    "    return W, cost_history"
   ]
  },
  {
   "cell_type": "code",
   "execution_count": 9,
   "id": "e0dc24c0",
   "metadata": {},
   "outputs": [],
   "source": [
    "def errorloop(cost_history):\n",
    "    for it in range(len(cost_history)):\n",
    "        if it%50==0: print(cost_history[it])"
   ]
  },
  {
   "cell_type": "code",
   "execution_count": 117,
   "id": "51bd1e04",
   "metadata": {},
   "outputs": [],
   "source": [
    "## def RMSerror():\n"
   ]
  },
  {
   "cell_type": "code",
   "execution_count": 10,
   "id": "dbf18378",
   "metadata": {},
   "outputs": [],
   "source": [
    "normalize(data)\n",
    "train_data, test_data = split(data)"
   ]
  },
  {
   "cell_type": "code",
   "execution_count": 11,
   "id": "45b18c19",
   "metadata": {},
   "outputs": [
    {
     "name": "stdout",
     "output_type": "stream",
     "text": [
      "(1155, 2)\n"
     ]
    }
   ],
   "source": [
    "#making numpy array of features and target\n",
    "train_Y = train_data[\"Y\"].to_numpy()\n",
    "train_Y = train_Y.reshape(train_Y.shape[0],1)\n",
    "\n",
    "train_X = train_data[[\"X1\",\"X2\"]].to_numpy()\n",
    "print(train_X.shape)"
   ]
  },
  {
   "cell_type": "code",
   "execution_count": 120,
   "id": "487b7f95",
   "metadata": {},
   "outputs": [
    {
     "data": {
      "text/plain": [
       "array([[1., 1., 1., 2., 2., 4.],\n",
       "       [1., 1., 1., 3., 3., 9.]])"
      ]
     },
     "execution_count": 120,
     "metadata": {},
     "output_type": "execute_result"
    }
   ],
   "source": [
    "#example\n",
    "# l = np.array([(1,2),(1,3)])\n",
    "# train_X_terms, W = generate_vectors(l, 2)\n",
    "# train_X_terms"
   ]
  },
  {
   "cell_type": "code",
   "execution_count": null,
   "id": "15d3c441",
   "metadata": {},
   "outputs": [],
   "source": [
    "# def model():"
   ]
  },
  {
   "cell_type": "raw",
   "id": "1421fc66",
   "metadata": {},
   "source": []
  }
 ],
 "metadata": {
  "interpreter": {
   "hash": "6c96954d1223400df3af4fc96eecaedf564f456a23720a3bb09f3211947aa942"
  },
  "kernelspec": {
   "display_name": "Python 3.9.5 64-bit",
   "name": "python3"
  },
  "language_info": {
   "codemirror_mode": {
    "name": "ipython",
    "version": 3
   },
   "file_extension": ".py",
   "mimetype": "text/x-python",
   "name": "python",
   "nbconvert_exporter": "python",
   "pygments_lexer": "ipython3",
   "version": "3.9.5"
  }
 },
 "nbformat": 4,
 "nbformat_minor": 5
}
