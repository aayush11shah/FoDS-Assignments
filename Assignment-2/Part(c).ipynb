{
  "nbformat": 4,
  "nbformat_minor": 0,
  "metadata": {
    "colab": {
      "name": "Part(c).ipynb",
      "provenance": []
    },
    "kernelspec": {
      "name": "python3",
      "display_name": "Python 3"
    },
    "language_info": {
      "name": "python"
    }
  },
  "cells": [
    {
      "cell_type": "code",
      "metadata": {
        "id": "ms9xpmZ5p1d2"
      },
      "source": [
        "import numpy as np\n",
        "import pandas as pd\n",
        "import matplotlib.pyplot as plt\n",
        "import math\n",
        "import sys\n",
        "%matplotlib inline\n",
        "plt.style.use(['ggplot'])"
      ],
      "execution_count": 97,
      "outputs": []
    },
    {
      "cell_type": "code",
      "metadata": {
        "colab": {
          "base_uri": "https://localhost:8080/",
          "height": 423
        },
        "id": "xM2RqLIZqGMf",
        "outputId": "a653fbf4-fe44-4c58-c42f-f39e064c2246"
      },
      "source": [
        "# importing the data\n",
        "data = pd.read_csv(\"FoDS-Assignment-2.csv\", names = [\"X1\",\"X2\",\"X3\",\"X4\",\"X5\",\"X6\",\"X7\",\"X8\",\"X9\",\"X10\",\"X11\",\"X12\",\"X13\",\"Y\"], header=0)\n",
        "data"
      ],
      "execution_count": 98,
      "outputs": [
        {
          "output_type": "execute_result",
          "data": {
            "text/html": [
              "<div>\n",
              "<style scoped>\n",
              "    .dataframe tbody tr th:only-of-type {\n",
              "        vertical-align: middle;\n",
              "    }\n",
              "\n",
              "    .dataframe tbody tr th {\n",
              "        vertical-align: top;\n",
              "    }\n",
              "\n",
              "    .dataframe thead th {\n",
              "        text-align: right;\n",
              "    }\n",
              "</style>\n",
              "<table border=\"1\" class=\"dataframe\">\n",
              "  <thead>\n",
              "    <tr style=\"text-align: right;\">\n",
              "      <th></th>\n",
              "      <th>X1</th>\n",
              "      <th>X2</th>\n",
              "      <th>X3</th>\n",
              "      <th>X4</th>\n",
              "      <th>X5</th>\n",
              "      <th>X6</th>\n",
              "      <th>X7</th>\n",
              "      <th>X8</th>\n",
              "      <th>X9</th>\n",
              "      <th>X10</th>\n",
              "      <th>X11</th>\n",
              "      <th>X12</th>\n",
              "      <th>X13</th>\n",
              "      <th>Y</th>\n",
              "    </tr>\n",
              "  </thead>\n",
              "  <tbody>\n",
              "    <tr>\n",
              "      <th>0</th>\n",
              "      <td>4</td>\n",
              "      <td>1.75</td>\n",
              "      <td>2120.0</td>\n",
              "      <td>7420</td>\n",
              "      <td>1.0</td>\n",
              "      <td>0</td>\n",
              "      <td>0</td>\n",
              "      <td>4</td>\n",
              "      <td>7</td>\n",
              "      <td>1060.0</td>\n",
              "      <td>1060</td>\n",
              "      <td>1540</td>\n",
              "      <td>7420</td>\n",
              "      <td>453000.0</td>\n",
              "    </tr>\n",
              "    <tr>\n",
              "      <th>1</th>\n",
              "      <td>4</td>\n",
              "      <td>2.50</td>\n",
              "      <td>2180.0</td>\n",
              "      <td>9861</td>\n",
              "      <td>2.0</td>\n",
              "      <td>0</td>\n",
              "      <td>2</td>\n",
              "      <td>3</td>\n",
              "      <td>8</td>\n",
              "      <td>2180.0</td>\n",
              "      <td>0</td>\n",
              "      <td>2390</td>\n",
              "      <td>9761</td>\n",
              "      <td>480000.0</td>\n",
              "    </tr>\n",
              "    <tr>\n",
              "      <th>2</th>\n",
              "      <td>3</td>\n",
              "      <td>1.50</td>\n",
              "      <td>1540.0</td>\n",
              "      <td>9800</td>\n",
              "      <td>1.0</td>\n",
              "      <td>0</td>\n",
              "      <td>0</td>\n",
              "      <td>3</td>\n",
              "      <td>7</td>\n",
              "      <td>1010.0</td>\n",
              "      <td>530</td>\n",
              "      <td>1600</td>\n",
              "      <td>8250</td>\n",
              "      <td>180500.0</td>\n",
              "    </tr>\n",
              "    <tr>\n",
              "      <th>3</th>\n",
              "      <td>3</td>\n",
              "      <td>3.50</td>\n",
              "      <td>2380.0</td>\n",
              "      <td>6250</td>\n",
              "      <td>2.0</td>\n",
              "      <td>0</td>\n",
              "      <td>3</td>\n",
              "      <td>3</td>\n",
              "      <td>8</td>\n",
              "      <td>1670.0</td>\n",
              "      <td>710</td>\n",
              "      <td>2540</td>\n",
              "      <td>4010</td>\n",
              "      <td>495000.0</td>\n",
              "    </tr>\n",
              "    <tr>\n",
              "      <th>4</th>\n",
              "      <td>4</td>\n",
              "      <td>2.50</td>\n",
              "      <td>2230.0</td>\n",
              "      <td>8500</td>\n",
              "      <td>2.0</td>\n",
              "      <td>0</td>\n",
              "      <td>0</td>\n",
              "      <td>3</td>\n",
              "      <td>8</td>\n",
              "      <td>2230.0</td>\n",
              "      <td>0</td>\n",
              "      <td>2270</td>\n",
              "      <td>8770</td>\n",
              "      <td>325000.0</td>\n",
              "    </tr>\n",
              "    <tr>\n",
              "      <th>...</th>\n",
              "      <td>...</td>\n",
              "      <td>...</td>\n",
              "      <td>...</td>\n",
              "      <td>...</td>\n",
              "      <td>...</td>\n",
              "      <td>...</td>\n",
              "      <td>...</td>\n",
              "      <td>...</td>\n",
              "      <td>...</td>\n",
              "      <td>...</td>\n",
              "      <td>...</td>\n",
              "      <td>...</td>\n",
              "      <td>...</td>\n",
              "      <td>...</td>\n",
              "    </tr>\n",
              "    <tr>\n",
              "      <th>1183</th>\n",
              "      <td>4</td>\n",
              "      <td>2.50</td>\n",
              "      <td>2623.0</td>\n",
              "      <td>7184</td>\n",
              "      <td>2.0</td>\n",
              "      <td>0</td>\n",
              "      <td>0</td>\n",
              "      <td>3</td>\n",
              "      <td>8</td>\n",
              "      <td>2623.0</td>\n",
              "      <td>0</td>\n",
              "      <td>2010</td>\n",
              "      <td>4939</td>\n",
              "      <td>333000.0</td>\n",
              "    </tr>\n",
              "    <tr>\n",
              "      <th>1184</th>\n",
              "      <td>2</td>\n",
              "      <td>2.00</td>\n",
              "      <td>1730.0</td>\n",
              "      <td>4248</td>\n",
              "      <td>2.0</td>\n",
              "      <td>0</td>\n",
              "      <td>0</td>\n",
              "      <td>3</td>\n",
              "      <td>7</td>\n",
              "      <td>1730.0</td>\n",
              "      <td>0</td>\n",
              "      <td>1380</td>\n",
              "      <td>4000</td>\n",
              "      <td>450000.0</td>\n",
              "    </tr>\n",
              "    <tr>\n",
              "      <th>1185</th>\n",
              "      <td>4</td>\n",
              "      <td>2.50</td>\n",
              "      <td>3040.0</td>\n",
              "      <td>6425</td>\n",
              "      <td>2.0</td>\n",
              "      <td>0</td>\n",
              "      <td>0</td>\n",
              "      <td>3</td>\n",
              "      <td>8</td>\n",
              "      <td>3040.0</td>\n",
              "      <td>0</td>\n",
              "      <td>3040</td>\n",
              "      <td>7800</td>\n",
              "      <td>776000.0</td>\n",
              "    </tr>\n",
              "    <tr>\n",
              "      <th>1186</th>\n",
              "      <td>4</td>\n",
              "      <td>1.50</td>\n",
              "      <td>2150.0</td>\n",
              "      <td>11026</td>\n",
              "      <td>1.0</td>\n",
              "      <td>0</td>\n",
              "      <td>0</td>\n",
              "      <td>4</td>\n",
              "      <td>7</td>\n",
              "      <td>2150.0</td>\n",
              "      <td>0</td>\n",
              "      <td>1760</td>\n",
              "      <td>10283</td>\n",
              "      <td>400000.0</td>\n",
              "    </tr>\n",
              "    <tr>\n",
              "      <th>1187</th>\n",
              "      <td>3</td>\n",
              "      <td>1.00</td>\n",
              "      <td>1200.0</td>\n",
              "      <td>9194</td>\n",
              "      <td>1.0</td>\n",
              "      <td>0</td>\n",
              "      <td>0</td>\n",
              "      <td>4</td>\n",
              "      <td>7</td>\n",
              "      <td>1200.0</td>\n",
              "      <td>0</td>\n",
              "      <td>1330</td>\n",
              "      <td>8650</td>\n",
              "      <td>369500.0</td>\n",
              "    </tr>\n",
              "  </tbody>\n",
              "</table>\n",
              "<p>1188 rows × 14 columns</p>\n",
              "</div>"
            ],
            "text/plain": [
              "      X1    X2      X3     X4   X5  X6  ...  X9     X10   X11   X12    X13         Y\n",
              "0      4  1.75  2120.0   7420  1.0   0  ...   7  1060.0  1060  1540   7420  453000.0\n",
              "1      4  2.50  2180.0   9861  2.0   0  ...   8  2180.0     0  2390   9761  480000.0\n",
              "2      3  1.50  1540.0   9800  1.0   0  ...   7  1010.0   530  1600   8250  180500.0\n",
              "3      3  3.50  2380.0   6250  2.0   0  ...   8  1670.0   710  2540   4010  495000.0\n",
              "4      4  2.50  2230.0   8500  2.0   0  ...   8  2230.0     0  2270   8770  325000.0\n",
              "...   ..   ...     ...    ...  ...  ..  ...  ..     ...   ...   ...    ...       ...\n",
              "1183   4  2.50  2623.0   7184  2.0   0  ...   8  2623.0     0  2010   4939  333000.0\n",
              "1184   2  2.00  1730.0   4248  2.0   0  ...   7  1730.0     0  1380   4000  450000.0\n",
              "1185   4  2.50  3040.0   6425  2.0   0  ...   8  3040.0     0  3040   7800  776000.0\n",
              "1186   4  1.50  2150.0  11026  1.0   0  ...   7  2150.0     0  1760  10283  400000.0\n",
              "1187   3  1.00  1200.0   9194  1.0   0  ...   7  1200.0     0  1330   8650  369500.0\n",
              "\n",
              "[1188 rows x 14 columns]"
            ]
          },
          "metadata": {},
          "execution_count": 98
        }
      ]
    },
    {
      "cell_type": "code",
      "metadata": {
        "id": "rFw_kZYwqH_e"
      },
      "source": [
        "def split(data,fraction = 0.7):\n",
        "    \n",
        "    shuffled_data = data.sample(frac=1, random_state=0) # Shuffling the dataset\n",
        "    split_index = int(fraction * len(data)) # Finding split index\n",
        "    \n",
        "    # Spliting the dataset \n",
        "    train= shuffled_data[:split_index]\n",
        "    test = shuffled_data[split_index:]\n",
        "    return train.reset_index(drop=True), test.reset_index(drop=True)"
      ],
      "execution_count": 99,
      "outputs": []
    },
    {
      "cell_type": "code",
      "metadata": {
        "id": "w_OesV8mqLIm"
      },
      "source": [
        "def calculate_cost(W, X, Y):\n",
        "    m = len(Y)\n",
        "    predictions = X.dot(W)\n",
        "    cost = np.sum(np.square(predictions - Y)) * (1/(2*m))\n",
        "    return cost"
      ],
      "execution_count": 100,
      "outputs": []
    },
    {
      "cell_type": "code",
      "metadata": {
        "id": "ra9bDBm1qOjf"
      },
      "source": [
        "def gradient_descent(X, Y, W, learning_rate=0.01, iterations=1000):\n",
        "\n",
        "    cost_history = np.zeros(iterations)\n",
        "    m = len(Y)\n",
        "    for it in range(iterations):\n",
        "        \n",
        "        prediction = np.dot(X, W)        \n",
        "        W = W - np.multiply((X.T.dot((prediction - Y))), learning_rate/m)\n",
        "        cost_history[it]  = calculate_cost(W, X, Y)\n",
        "        \n",
        "    return W, cost_history"
      ],
      "execution_count": 101,
      "outputs": []
    },
    {
      "cell_type": "code",
      "metadata": {
        "id": "mNtIcfEJqRGW"
      },
      "source": [
        "def errorloop(cost_history):\n",
        "    for it in range(len(cost_history)):\n",
        "        if it%500==0: print(cost_history[it])"
      ],
      "execution_count": 102,
      "outputs": []
    },
    {
      "cell_type": "code",
      "metadata": {
        "id": "UTRVaT1AqS9O"
      },
      "source": [
        "def RMSerror(final_error):\n",
        "    return math.sqrt(2*final_error)"
      ],
      "execution_count": 103,
      "outputs": []
    },
    {
      "cell_type": "code",
      "metadata": {
        "id": "Bpg2KgQ3qU6P"
      },
      "source": [
        "def model(X, Y, learning_rate, iterations, degree):\n",
        "    \n",
        "    train_X_terms = X\n",
        "    W_gd = np.zeros(train_X_terms.shape[1])\n",
        "    W_gd, cost_history_gd = gradient_descent(train_X_terms, Y, W_gd, learning_rate, iterations)\n",
        "    \n",
        "    print(W_gd)\n",
        "    print('Final cost/MSE:',cost_history_gd[-1])\n",
        "    print('-------------------------------------------------------------------')\n",
        "    errorloop(cost_history_gd)\n",
        "    \n",
        "    return train_X_terms, W_gd, cost_history_gd, iterations, degree"
      ],
      "execution_count": 104,
      "outputs": []
    },
    {
      "cell_type": "code",
      "metadata": {
        "id": "DWtr9IgqqX1l"
      },
      "source": [
        "train_data, test_data = split(data)"
      ],
      "execution_count": 105,
      "outputs": []
    },
    {
      "cell_type": "code",
      "metadata": {
        "id": "WXVTBxqZtKOc"
      },
      "source": [
        "test_data = test_data.dropna()\n",
        "train_data = train_data.dropna()"
      ],
      "execution_count": 106,
      "outputs": []
    },
    {
      "cell_type": "code",
      "metadata": {
        "colab": {
          "base_uri": "https://localhost:8080/"
        },
        "id": "Wo0xCMcMs18Z",
        "outputId": "8875ce54-a262-43db-c7a5-366e452f27e4"
      },
      "source": [
        "print(train_data)"
      ],
      "execution_count": 107,
      "outputs": [
        {
          "output_type": "stream",
          "name": "stdout",
          "text": [
            "     X1    X2      X3     X4   X5  X6  ...  X9     X10   X11   X12    X13         Y\n",
            "0     3  1.75  3400.0  46382  1.0   0  ...   7  2050.0  1350  2320  20624  340000.0\n",
            "1     3  2.50  2380.0   5017  2.0   0  ...   9  2380.0     0  2670   6066  652100.0\n",
            "2     4  2.50  2400.0   9612  1.0   0  ...   8  1230.0  1170  2430   5539  500012.0\n",
            "3     3  2.50  1780.0   2778  2.0   0  ...   8  1530.0   250  1380   1998  443000.0\n",
            "4     3  3.25  3330.0  15093  2.5   0  ...   9  3330.0     0  4340  20031  950000.0\n",
            "..   ..   ...     ...    ...  ...  ..  ...  ..     ...   ...   ...    ...       ...\n",
            "826   4  2.50  3040.0   6425  2.0   0  ...   8  3040.0     0  3040   7800  776000.0\n",
            "827   4  1.75  1840.0  10720  1.0   0  ...   7   960.0   880  1840   9044  404000.0\n",
            "828   6  4.00  3180.0   6551  2.0   0  ...   9  3180.0     0  3230   7602  859950.0\n",
            "829   5  2.50  2830.0  25958  1.0   0  ...   8  1610.0  1220  2670  21567  700000.0\n",
            "830   4  2.50  1830.0   8601  2.0   0  ...   7  1830.0     0  1830   5184  339000.0\n",
            "\n",
            "[798 rows x 14 columns]\n"
          ]
        }
      ]
    },
    {
      "cell_type": "code",
      "metadata": {
        "colab": {
          "base_uri": "https://localhost:8080/"
        },
        "id": "WnOJZCMAs4Sl",
        "outputId": "2f493bf7-9db2-4ecc-f247-3841f36194f1"
      },
      "source": [
        "print(test_data)"
      ],
      "execution_count": 108,
      "outputs": [
        {
          "output_type": "stream",
          "name": "stdout",
          "text": [
            "     X1    X2      X3      X4   X5  X6  ...  X9     X10  X11   X12     X13         Y\n",
            "0     4  1.75  1600.0    6380  1.0   0  ...   8  1130.0  470  1090    6380  495000.0\n",
            "1     4  2.50  1940.0    3200  2.0   0  ...   8  1940.0    0  1900    3200  380000.0\n",
            "2     3  1.00  2020.0    8100  1.0   0  ...   7  1170.0  850  1480    7620  450000.0\n",
            "3     3  2.50  1270.0    1283  3.0   0  ...   7  1270.0    0  1270    1512  292000.0\n",
            "4     3  2.00  1720.0  128066  1.0   0  ...   7  1720.0    0  2360  111078  427000.0\n",
            "..   ..   ...     ...     ...  ...  ..  ...  ..     ...  ...   ...     ...       ...\n",
            "351   4  2.50  1770.0    8155  1.5   0  ...   6  1770.0    0  1460    7360  500000.0\n",
            "352   2  1.75  2320.0    5500  1.5   0  ...   8  1720.0  600  2380    5000  700000.0\n",
            "353   3  1.00  1450.0    4000  1.0   0  ...   8   950.0  500  1880    4000  525000.0\n",
            "354   3  2.50  1322.0    6006  2.0   0  ...   7  1322.0    0  1440    6796  215000.0\n",
            "356   6  3.75  2770.0    5000  1.0   0  ...   8  1870.0  900  1570    2108  890000.0\n",
            "\n",
            "[349 rows x 14 columns]\n"
          ]
        }
      ]
    },
    {
      "cell_type": "code",
      "metadata": {
        "id": "onEdUl4Lq8n1"
      },
      "source": [
        "X1 = np.array(train_data['X1'])\n",
        "X2 = np.array(train_data['X2'])\n",
        "X3 = np.array(train_data['X3'])\n",
        "X4 = np.array(train_data['X4'])\n",
        "X5 = np.array(train_data['X5'])\n",
        "X6 = np.array(train_data['X6'])\n",
        "X7 = np.array(train_data['X7'])\n",
        "X8 = np.array(train_data['X8'])\n",
        "X9 = np.array(train_data['X9'])\n",
        "X10 = np.array(train_data['X10'])\n",
        "X11 = np.array(train_data['X11'])\n",
        "X12 = np.array(train_data['X12'])\n",
        "X13 = np.array(train_data['X13'])\n",
        "Y = np.array(train_data['Y'])\n",
        "Xtest1 = np.array(test_data['X1'])\n",
        "Xtest2 = np.array(test_data['X2'])\n",
        "Xtest3 = np.array(test_data['X3'])\n",
        "Xtest4 = np.array(test_data['X4'])\n",
        "Xtest5 = np.array(test_data['X5'])\n",
        "Xtest6 = np.array(test_data['X6'])\n",
        "Xtest7 = np.array(test_data['X7'])\n",
        "Xtest8 = np.array(test_data['X8'])\n",
        "Xtest9 = np.array(test_data['X9'])\n",
        "Xtest10 = np.array(test_data['X10'])\n",
        "Xtest11 = np.array(test_data['X11'])\n",
        "Xtest12 = np.array(test_data['X12'])\n",
        "Xtest13 = np.array(test_data['X13'])\n",
        "Y1 = np.array(test_data['Y'])"
      ],
      "execution_count": 109,
      "outputs": []
    },
    {
      "cell_type": "code",
      "metadata": {
        "id": "CeugJLBlq0L0"
      },
      "source": [
        "mydict = {\n",
        "    1: X1,\n",
        "    2: X2,\n",
        "    3: X3,\n",
        "    4: X4,\n",
        "    5: X5,\n",
        "    6: X6,\n",
        "    7: X7,\n",
        "    8: X8,\n",
        "    9: X9,\n",
        "    10: X10,\n",
        "    11: X11,\n",
        "    12: X12,\n",
        "    13: X13\n",
        "}"
      ],
      "execution_count": 110,
      "outputs": []
    },
    {
      "cell_type": "code",
      "metadata": {
        "id": "zJqAp6Jjq3HF"
      },
      "source": [
        "dicttest = {\n",
        "    1: Xtest1,\n",
        "    2: Xtest2,\n",
        "    3: Xtest3,\n",
        "    4: Xtest4,\n",
        "    5: Xtest5,\n",
        "    6: Xtest6,\n",
        "    7: Xtest7,\n",
        "    8: Xtest8,\n",
        "    9: Xtest9,\n",
        "    10: Xtest10,\n",
        "    11: Xtest11,\n",
        "    12: Xtest12,\n",
        "    13: Xtest13\n",
        "}"
      ],
      "execution_count": 111,
      "outputs": []
    },
    {
      "cell_type": "code",
      "metadata": {
        "id": "B-RktPbQrNR8"
      },
      "source": [
        "l = np.ones(X1.size)\n",
        "test = np.ones(Xtest1.size)"
      ],
      "execution_count": 112,
      "outputs": []
    },
    {
      "cell_type": "code",
      "metadata": {
        "id": "-VqP4c4-qxbE"
      },
      "source": [
        "for k in range(13):\n",
        "\n",
        "    t = l\n",
        "    l = np.c_[t,mydict[k+1]]\n",
        "    a = test\n",
        "    test = np.c_[test,dicttest[k+1]]"
      ],
      "execution_count": 113,
      "outputs": []
    },
    {
      "cell_type": "code",
      "metadata": {
        "colab": {
          "base_uri": "https://localhost:8080/"
        },
        "id": "90FYiIdtqmA9",
        "outputId": "ade92516-3d76-4dbd-e509-cbc21da16396"
      },
      "source": [
        "train_X_terms, W_gd, cost_history_gd, n_iter, degree = model(l, Y, 0.0000000001, 20000, 1)"
      ],
      "execution_count": 114,
      "outputs": [
        {
          "output_type": "stream",
          "name": "stdout",
          "text": [
            "[ 1.55496596e-02  3.92274438e-02  7.71105084e-02  1.27871565e+02\n",
            " -5.40403294e-02  4.42768675e-02  8.60420229e-03  1.50366427e-01\n",
            "  8.94577541e-02  2.65562494e-01  8.62013985e+01  4.16701663e+01\n",
            "  6.79261240e+01 -1.35145422e+00]\n",
            "Final cost/MSE: 31930580018.849915\n",
            "-------------------------------------------------------------------\n",
            "200737431443.47382\n",
            "84205991119.7946\n",
            "52078848790.03617\n",
            "40037967560.25464\n",
            "35510981717.19042\n",
            "33795136772.526733\n",
            "33131336427.89724\n",
            "32861571201.194664\n",
            "32739697626.041283\n",
            "32673632595.796883\n",
            "32628920174.39129\n",
            "32592660388.973595\n",
            "32560016650.395508\n",
            "32529168795.054043\n",
            "32499425243.559925\n",
            "32470516839.208786\n",
            "32442332698.452145\n",
            "32414821397.82271\n",
            "32387954005.77462\n",
            "32361710248.031494\n",
            "32336073326.28885\n",
            "32311027973.909855\n",
            "32286559722.599197\n",
            "32262654622.211708\n",
            "32239299130.217064\n",
            "32216480064.77974\n",
            "32194184581.785126\n",
            "32172400160.969044\n",
            "32151114595.594727\n",
            "32130315983.595158\n",
            "32109992719.397858\n",
            "32090133486.135895\n",
            "32070727248.130333\n",
            "32051763243.59797\n",
            "32033230977.563457\n",
            "32015120214.964836\n",
            "31997420973.944927\n",
            "31980123519.322945\n",
            "31963218356.240776\n",
            "31946696223.979282\n"
          ]
        }
      ]
    },
    {
      "cell_type": "code",
      "metadata": {
        "colab": {
          "base_uri": "https://localhost:8080/"
        },
        "id": "deDLcAPzuMlb",
        "outputId": "dad74691-6afd-4685-c82c-9e947e92423f"
      },
      "source": [
        "calculate_cost(W_gd, test, Y1)"
      ],
      "execution_count": 115,
      "outputs": [
        {
          "output_type": "execute_result",
          "data": {
            "text/plain": [
              "48070025414.30089"
            ]
          },
          "metadata": {},
          "execution_count": 115
        }
      ]
    }
  ]
}